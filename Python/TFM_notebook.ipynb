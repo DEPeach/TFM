{
 "cells": [
  {
   "cell_type": "code",
   "execution_count": 1,
   "metadata": {},
   "outputs": [],
   "source": [
    "import pandas as pd\n",
    "import numpy as np\n",
    "from disc_dataset_equalwidth import disc_dataset_equalwidth\n",
    "from Group_JMI_Rand import Group_JMI_Rand\n",
    "from Estabilidad import nogueria_test"
   ]
  },
  {
   "cell_type": "code",
   "execution_count": 9,
   "metadata": {},
   "outputs": [],
   "source": [
    "#import data\n",
    "X_org=pd.read_feather(path=\"/Users/macondo/Documents/GitHub/TFM/Raw_Data/pathvals_gtex-v8_edger-v3-40-0_hipathia-norm-v2-14-0.feather\")\n",
    "labels_org=pd.read_feather(path=\"/Users/macondo/Documents/GitHub/TFM/Raw_Data/labels.feater\")\n",
    "\n",
    "X=X_org.to_numpy()\n",
    "Y_labels=labels_org.to_numpy()\n",
    "\n",
    "X=X[0:100,1:40]\n",
    "Y_labels=Y_labels[0:100,1:26]"
   ]
  },
  {
   "cell_type": "code",
   "execution_count": 10,
   "metadata": {},
   "outputs": [
    {
     "data": {
      "text/plain": [
       "array([[0.15977083600231282, 0.08501765008863131, 0.07174244549734941,\n",
       "        ..., 0.15852774217475615, 0.2113327886866544,\n",
       "        0.17862195143948495],\n",
       "       [0.09682922661900883, 0.1302983257032947, 0.09235770431204611,\n",
       "        ..., 0.11862212021367934, 0.31403439128478267,\n",
       "        0.22452905684816288],\n",
       "       [0.07639215205010023, 0.09383911834339116, 0.09145582464919537,\n",
       "        ..., 0.11746903187528945, 0.24652923664418552,\n",
       "        0.2655078753980535],\n",
       "       ...,\n",
       "       [0.225885255534676, 0.054898401074099094, 0.025942772704988848,\n",
       "        ..., 0.14947006924569342, 0.1554174510008308,\n",
       "        0.19144283410749263],\n",
       "       [0.3891475705101022, 0.45484191681177005, 0.02605400094868829,\n",
       "        ..., 0.21922245653233333, 0.128930065519743, 0.0474715555844687],\n",
       "       [0.056314365445542074, 0.06036541157683491, 0.009416107965851902,\n",
       "        ..., 0.10432294152870229, 0.17953638968204227,\n",
       "        0.1186470433607706]], dtype=object)"
      ]
     },
     "execution_count": 10,
     "metadata": {},
     "output_type": "execute_result"
    }
   ],
   "source": [
    "X"
   ]
  },
  {
   "cell_type": "code",
   "execution_count": 11,
   "metadata": {},
   "outputs": [
    {
     "data": {
      "text/plain": [
       "array([[0.00376202, 0.00182869, 0.0026343 , ..., 0.08788025, 0.14052651,\n",
       "        0.02516181],\n",
       "       [0.00280934, 0.00107259, 0.00136752, ..., 0.1006948 , 0.10683821,\n",
       "        0.01773169],\n",
       "       [0.00429877, 0.00233888, 0.00205188, ..., 0.08392364, 0.13182199,\n",
       "        0.02582674],\n",
       "       ...,\n",
       "       [0.00282596, 0.00150849, 0.00191896, ..., 0.09432988, 0.14694872,\n",
       "        0.01607587],\n",
       "       [0.00322053, 0.00175059, 0.00187832, ..., 0.10403361, 0.10821894,\n",
       "        0.01474857],\n",
       "       [0.00278516, 0.00110509, 0.00213564, ..., 0.10341365, 0.137018  ,\n",
       "        0.02316267]])"
      ]
     },
     "execution_count": 11,
     "metadata": {},
     "output_type": "execute_result"
    }
   ],
   "source": [
    "Y_labels"
   ]
  },
  {
   "cell_type": "code",
   "execution_count": 12,
   "metadata": {},
   "outputs": [
    {
     "data": {
      "text/plain": [
       "array([[2., 0., 1., ..., 2., 1., 2.],\n",
       "       [1., 1., 1., ..., 1., 3., 3.],\n",
       "       [0., 0., 1., ..., 1., 2., 4.],\n",
       "       ...,\n",
       "       [2., 0., 0., ..., 1., 1., 3.],\n",
       "       [4., 4., 0., ..., 3., 0., 0.],\n",
       "       [0., 0., 0., ..., 0., 1., 1.]])"
      ]
     },
     "execution_count": 12,
     "metadata": {},
     "output_type": "execute_result"
    }
   ],
   "source": [
    "bins=5\n",
    "X_inputs_disc = disc_dataset_equalwidth(X, bins)\n",
    "X_inputs_disc"
   ]
  },
  {
   "cell_type": "code",
   "execution_count": 27,
   "metadata": {},
   "outputs": [
    {
     "data": {
      "text/plain": [
       "[37, 8, 38, 27, 23, 14, 15, 26, 20, 28]"
      ]
     },
     "execution_count": 27,
     "metadata": {},
     "output_type": "execute_result"
    }
   ],
   "source": [
    "#Con la distancia euclidiana\n",
    "topK=10\n",
    "np.random.seed(1026) \n",
    "Selected_with_Group_JMI_1 = Group_JMI_Rand(X_inputs_disc,Y_labels, topK, 'euclidean')\n",
    "Selected_with_Group_JMI_1"
   ]
  },
  {
   "cell_type": "code",
   "execution_count": 31,
   "metadata": {},
   "outputs": [
    {
     "data": {
      "text/plain": [
       "[0, 38, 4, 16, 36, 6, 15, 24, 14, 27]"
      ]
     },
     "execution_count": 31,
     "metadata": {},
     "output_type": "execute_result"
    }
   ],
   "source": [
    "#Con la distancia de hamming\n",
    "topK=10\n",
    "np.random.seed(1026) \n",
    "Selected_with_Group_JMI_2 = Group_JMI_Rand(X_inputs_disc,Y_labels, topK, 'hamming')\n",
    "Selected_with_Group_JMI_2"
   ]
  },
  {
   "cell_type": "code",
   "execution_count": 39,
   "metadata": {},
   "outputs": [],
   "source": [
    "#Funcion para probar la estabilidad en \"n_samples\" muestras de tamanho 50 cada una   \n",
    "def estabilidad(n_samples, X, Y_labels, bins, topK):\n",
    "    np.random.seed(1026)\n",
    "    estab_matriz = np.zeros((n_samples, X.shape[1]))\n",
    "    for sample in range(n_samples):\n",
    "        random1=np.random.choice(X.shape[0], 50, replace=False)\n",
    "        X_rd=X[random1,:]\n",
    "        Y_labels_rd=Y_labels[random1,:]\n",
    "        X_inputs_disc = disc_dataset_equalwidth(X_rd, bins)\n",
    "        Selected_with_Group_JMI_1 = Group_JMI_Rand(X_inputs_disc,Y_labels_rd, topK, 'euclidean')\n",
    "        estab_matriz[sample, Selected_with_Group_JMI_1] = 1\n",
    "    return estab_matriz"
   ]
  },
  {
   "cell_type": "code",
   "execution_count": 42,
   "metadata": {},
   "outputs": [
    {
     "data": {
      "text/plain": [
       "array([[0., 0., 0., 0., 0., 0., 0., 0., 0., 0., 0., 0., 0., 0., 0., 0.,\n",
       "        1., 1., 0., 1., 0., 0., 1., 0., 0., 0., 1., 1., 1., 0., 0., 0.,\n",
       "        0., 0., 0., 0., 1., 1., 1.],\n",
       "       [0., 0., 0., 0., 0., 1., 1., 0., 0., 0., 0., 0., 0., 0., 0., 1.,\n",
       "        0., 0., 0., 0., 0., 0., 0., 1., 0., 0., 0., 1., 1., 0., 0., 0.,\n",
       "        1., 0., 1., 1., 0., 1., 0.],\n",
       "       [1., 0., 0., 0., 0., 0., 0., 0., 0., 0., 0., 0., 0., 0., 0., 1.,\n",
       "        0., 0., 0., 0., 0., 0., 1., 0., 0., 0., 0., 1., 1., 0., 0., 0.,\n",
       "        1., 1., 0., 0., 1., 1., 1.],\n",
       "       [0., 0., 0., 0., 0., 0., 0., 0., 1., 0., 0., 0., 1., 0., 1., 1.,\n",
       "        0., 0., 0., 0., 0., 0., 0., 1., 0., 0., 0., 1., 1., 0., 0., 0.,\n",
       "        1., 0., 0., 0., 0., 1., 1.],\n",
       "       [0., 0., 0., 0., 0., 1., 0., 0., 1., 0., 0., 0., 0., 0., 1., 1.,\n",
       "        0., 1., 0., 0., 0., 0., 0., 0., 0., 0., 0., 1., 0., 0., 0., 0.,\n",
       "        1., 0., 0., 0., 1., 1., 1.]])"
      ]
     },
     "execution_count": 42,
     "metadata": {},
     "output_type": "execute_result"
    }
   ],
   "source": [
    "#Prueba de la estabilidad en 5 muestras\n",
    "#Bins=5\n",
    "#topK=10\n",
    "estab_matriz=estabilidad(5, X, Y_labels, 5, 10)\n",
    "estab_matriz"
   ]
  },
  {
   "cell_type": "code",
   "execution_count": 43,
   "metadata": {},
   "outputs": [
    {
     "data": {
      "text/plain": [
       "NogueiraTest(estimator=0.36793103448275855, upper=0.4729410028253467, lower=0.2629210661401704, var=0.0028705483947681193, error=0.10500996834258813, alpha=0.05)"
      ]
     },
     "execution_count": 43,
     "metadata": {},
     "output_type": "execute_result"
    }
   ],
   "source": [
    "#Nogueria score\n",
    "nogueria_score=nogueria_test(estab_matriz)\n",
    "nogueria_score"
   ]
  }
 ],
 "metadata": {
  "kernelspec": {
   "display_name": "Python 3",
   "language": "python",
   "name": "python3"
  },
  "language_info": {
   "codemirror_mode": {
    "name": "ipython",
    "version": 3
   },
   "file_extension": ".py",
   "mimetype": "text/x-python",
   "name": "python",
   "nbconvert_exporter": "python",
   "pygments_lexer": "ipython3",
   "version": "3.10.11"
  },
  "orig_nbformat": 4
 },
 "nbformat": 4,
 "nbformat_minor": 2
}
