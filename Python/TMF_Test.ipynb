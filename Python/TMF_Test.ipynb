{
 "cells": [
  {
   "cell_type": "code",
   "execution_count": null,
   "id": "2274bfd3-ead2-4564-8256-6abf5efa479b",
   "metadata": {},
   "outputs": [],
   "source": [
    "import numpy as np\n",
    "import pandas as pd\n",
    "import scipy as sp\n",
    "import scipy.io \n",
    "from disc_dataset_equalwidth import disc_dataset_equalwidth\n",
    "from Group_JMI_Rand import Group_JMI_Rand"
   ]
  },
  {
   "cell_type": "code",
   "execution_count": null,
   "id": "b3a320f3-fddf-4b82-8687-b348934f63e3",
   "metadata": {},
   "outputs": [],
   "source": [
    "#Este corre bien\n",
    "mat = scipy.io.loadmat('/Users/macondo/Documents/GitHub/TFM/Raw_Data/atp1d.mat')\n",
    "\n",
    "a=mat.items()\n",
    "b=list(a)\n",
    "X=np.array(b[3][1])\n",
    "labels=np.array(b[4][1])\n"
   ]
  },
  {
   "cell_type": "code",
   "execution_count": null,
   "id": "7c4d5579-82f7-4d32-9d06-444ec15bc539",
   "metadata": {},
   "outputs": [],
   "source": [
    "#Para este dataset se hace uso de la metrica/ditancia \"hamming\" en la funcion Group_JMI_Rand. \n",
    "#Hasta ahora tengo solo la \"euclidiana\" implememtada y eso me genera error en la funcion (creo yo y viendo la naturaleza de nuestros datos,\n",
    "#es la que necesitamos (pero tu me corregiras))\n",
    "mat = scipy.io.loadmat('/Users/macondo/Documents/GitHub/TFM/Raw_Data/emotions.mat')\n",
    "\n",
    "a=mat.items()\n",
    "b=list(a)\n",
    "X=np.array(b[4][1])\n",
    "labels=np.array(b[3][1])\n"
   ]
  },
  {
   "cell_type": "code",
   "execution_count": null,
   "id": "f4f94368-52b3-4f95-bc1e-5b4d2d1309c4",
   "metadata": {},
   "outputs": [],
   "source": [
    "X"
   ]
  },
  {
   "cell_type": "code",
   "execution_count": null,
   "id": "4cb85161-17a4-4d19-b7bf-b6d8432fab42",
   "metadata": {},
   "outputs": [],
   "source": [
    "labels"
   ]
  },
  {
   "cell_type": "code",
   "execution_count": null,
   "id": "4a763e0a-6ceb-49b8-b2a9-a555646b3559",
   "metadata": {},
   "outputs": [],
   "source": [
    "bins = 5"
   ]
  },
  {
   "cell_type": "code",
   "execution_count": null,
   "id": "008fced2-f714-4f4e-a036-22649392ff35",
   "metadata": {},
   "outputs": [],
   "source": [
    "X_inputs_disc = disc_dataset_equalwidth(X, bins)"
   ]
  },
  {
   "cell_type": "code",
   "execution_count": null,
   "id": "6e3d923f-2e52-4448-8eb9-568e6508ccdb",
   "metadata": {},
   "outputs": [],
   "source": [
    "X_inputs_disc"
   ]
  },
  {
   "cell_type": "code",
   "execution_count": null,
   "id": "23ee3cf6-5e70-4c13-b656-427280a51ae4",
   "metadata": {},
   "outputs": [],
   "source": [
    "topK = 10"
   ]
  },
  {
   "cell_type": "code",
   "execution_count": null,
   "id": "a895989b-2783-48b5-af41-8f1f1f2e11b3",
   "metadata": {},
   "outputs": [],
   "source": [
    "Selected_with_Group_JMI = Group_JMI_Rand(X_inputs_disc,labels, topK)"
   ]
  },
  {
   "cell_type": "code",
   "execution_count": null,
   "id": "ed498af7-03e7-4b84-a0aa-8d772764e854",
   "metadata": {},
   "outputs": [],
   "source": [
    "Selected_with_Group_JMI"
   ]
  }
 ],
 "metadata": {
  "kernelspec": {
   "display_name": "Python 3 (ipykernel)",
   "language": "python",
   "name": "python3"
  },
  "language_info": {
   "codemirror_mode": {
    "name": "ipython",
    "version": 3
   },
   "file_extension": ".py",
   "mimetype": "text/x-python",
   "name": "python",
   "nbconvert_exporter": "python",
   "pygments_lexer": "ipython3",
   "version": "3.10.11"
  }
 },
 "nbformat": 4,
 "nbformat_minor": 5
}
